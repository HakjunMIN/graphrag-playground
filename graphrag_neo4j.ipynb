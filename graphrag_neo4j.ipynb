{
 "cells": [
  {
   "cell_type": "markdown",
   "metadata": {},
   "source": [
    "## GraphDB에서 Cypher Query생성 샘플"
   ]
  },
  {
   "cell_type": "code",
   "execution_count": 6,
   "metadata": {},
   "outputs": [
    {
     "name": "stdout",
     "output_type": "stream",
     "text": [
      "The Matrix Reloaded\n",
      "The Matrix Revolutions\n",
      "The Devil's Advocate\n",
      "The Replacements\n",
      "Johnny Mnemonic\n",
      "Something's Gotta Give\n",
      "Cloud Atlas\n",
      "V for Vendetta\n"
     ]
    },
    {
     "name": "stderr",
     "output_type": "stream",
     "text": [
      "/var/folders/pr/hngks2mn74d25jycvx6rxl400000gn/T/ipykernel_18534/1986060361.py:20: DeprecationWarning: read_transaction has been renamed to execute_read\n",
      "  results = session.read_transaction(\n"
     ]
    }
   ],
   "source": [
    "from neo4j import GraphDatabase, basic_auth\n",
    "\n",
    "BOLT_URL = \"bolt://localhost:7687\"\n",
    "BOLT_PASSWORD = \"your_password\"\n",
    "\n",
    "\n",
    "driver = GraphDatabase.driver(\n",
    "  BOLT_URL,\n",
    "  auth=basic_auth(\"neo4j\", BOLT_PASSWORD))\n",
    "\n",
    "cypher_query = '''\n",
    "MATCH (movie:Movie {title:$favorite})<-[:ACTED_IN]-(actor)-[:ACTED_IN]->(rec:Movie)\n",
    " RETURN distinct rec.title as title LIMIT 20\n",
    "'''\n",
    "\n",
    "with driver.session(database=\"neo4j\") as session:\n",
    "  results = session.read_transaction(\n",
    "    lambda tx: tx.run(cypher_query,\n",
    "                      favorite=\"The Matrix\").data())\n",
    "  for record in results:\n",
    "    print(record['title'])\n",
    "\n",
    "driver.close()\n"
   ]
  },
  {
   "cell_type": "code",
   "execution_count": 16,
   "metadata": {},
   "outputs": [],
   "source": [
    "from load_dotenv import load_dotenv\n",
    "import os\n",
    "\n",
    "load_dotenv()\n",
    "\n",
    "from langchain.chains import GraphCypherQAChain\n",
    "from langchain_community.graphs import Neo4jGraph\n",
    "from langchain_openai import AzureChatOpenAI\n",
    "\n",
    "\n",
    "\n",
    "graph = Neo4jGraph(url=BOLT_URL, username=\"neo4j\", password=BOLT_PASSWORD, database=\"neo4j\")\n",
    "\n",
    "chain = GraphCypherQAChain.from_llm(\n",
    "    AzureChatOpenAI(\n",
    "        azure_endpoint=os.getenv(\"GRAPHRAG_BASE_URL\"),\n",
    "        openai_api_version=os.getenv(\"GRAPHRAG_API_VERSION\"),\n",
    "        azure_deployment=os.getenv(\"GRAPHRAG_LLM_DEPLOYMENT_NAME\"),\n",
    "        api_key=os.getenv(\"GRAPHRAG_API_KEY\"), \n",
    "    ), \n",
    "    allow_dangerous_requests=True,\n",
    "    graph=graph,\n",
    "    verbose=True,\n",
    "    return_intermediate_steps=True,\n",
    ")\n"
   ]
  },
  {
   "cell_type": "code",
   "execution_count": 17,
   "metadata": {},
   "outputs": [
    {
     "name": "stdout",
     "output_type": "stream",
     "text": [
      "\n",
      "\n",
      "\u001b[1m> Entering new GraphCypherQAChain chain...\u001b[0m\n",
      "Generated Cypher:\n",
      "\u001b[32;1m\u001b[1;3mcypher\n",
      "MATCH (p:Person)-[:ACTED_IN]->(m:Movie {title: \"Top Gun\"})\n",
      "RETURN p.name\n",
      "\u001b[0m\n",
      "Full Context:\n",
      "\u001b[32;1m\u001b[1;3m[{'p.name': 'Tom Cruise'}, {'p.name': 'Kelly McGillis'}, {'p.name': 'Val Kilmer'}, {'p.name': 'Anthony Edwards'}, {'p.name': 'Tom Skerritt'}, {'p.name': 'Meg Ryan'}]\u001b[0m\n",
      "\n",
      "\u001b[1m> Finished chain.\u001b[0m\n",
      "Intermediate steps: [{'query': 'cypher\\nMATCH (p:Person)-[:ACTED_IN]->(m:Movie {title: \"Top Gun\"})\\nRETURN p.name\\n'}, {'context': [{'p.name': 'Tom Cruise'}, {'p.name': 'Kelly McGillis'}, {'p.name': 'Val Kilmer'}, {'p.name': 'Anthony Edwards'}, {'p.name': 'Tom Skerritt'}, {'p.name': 'Meg Ryan'}]}]\n",
      "Final answer: Tom Cruise, Kelly McGillis, Val Kilmer, Anthony Edwards, Tom Skerritt, and Meg Ryan played in the Top Gun movie.\n"
     ]
    }
   ],
   "source": [
    "result=chain.invoke({\"query\": \"Who played in Top Gun movie\"})\n",
    "\n",
    "print(f\"Intermediate steps: {result['intermediate_steps']}\")\n",
    "print(f\"Final answer: {result['result']}\")"
   ]
  },
  {
   "cell_type": "markdown",
   "metadata": {},
   "source": [
    "### Reference\n",
    "\n",
    "https://python.langchain.com/docs/integrations/graphs/neo4j_cypher/"
   ]
  }
 ],
 "metadata": {
  "kernelspec": {
   "display_name": ".venv",
   "language": "python",
   "name": "python3"
  },
  "language_info": {
   "codemirror_mode": {
    "name": "ipython",
    "version": 3
   },
   "file_extension": ".py",
   "mimetype": "text/x-python",
   "name": "python",
   "nbconvert_exporter": "python",
   "pygments_lexer": "ipython3",
   "version": "3.11.11"
  }
 },
 "nbformat": 4,
 "nbformat_minor": 2
}
