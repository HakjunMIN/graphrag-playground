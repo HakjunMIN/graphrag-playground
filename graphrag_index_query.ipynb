{
 "cells": [
  {
   "cell_type": "markdown",
   "metadata": {},
   "source": [
    "# GraphRAG index sample for Korean Novel (이상의 날개)\n",
    "\n"
   ]
  },
  {
   "cell_type": "code",
   "execution_count": 45,
   "metadata": {},
   "outputs": [],
   "source": [
    "import os\n",
    "\n",
    "import pandas as pd\n",
    "import tiktoken\n",
    "from graphrag.config.models.drift_search_config import DRIFTSearchConfig\n",
    "from graphrag.query.context_builder.entity_extraction import EntityVectorStoreKey\n",
    "from graphrag.query.indexer_adapters import (\n",
    "    read_indexer_communities,\n",
    "    read_indexer_covariates,\n",
    "    read_indexer_entities,\n",
    "    read_indexer_relationships,\n",
    "    read_indexer_report_embeddings,\n",
    "    read_indexer_reports,\n",
    "    read_indexer_text_units,\n",
    ")\n",
    "from graphrag.query.llm.oai.chat_openai import ChatOpenAI\n",
    "from graphrag.query.llm.oai.embedding import OpenAIEmbedding\n",
    "from graphrag.query.llm.oai.typing import OpenaiApiType\n",
    "from graphrag.query.structured_search.drift_search.drift_context import (\n",
    "    DRIFTSearchContextBuilder,\n",
    ")\n",
    "from graphrag.query.structured_search.drift_search.search import DRIFTSearch\n",
    "from graphrag.query.structured_search.global_search.community_context import (\n",
    "    GlobalCommunityContext,\n",
    ")\n",
    "from graphrag.query.structured_search.global_search.search import GlobalSearch\n",
    "from graphrag.query.structured_search.local_search.mixed_context import (\n",
    "    LocalSearchMixedContext,\n",
    ")\n",
    "from graphrag.query.structured_search.local_search.search import LocalSearch\n",
    "from graphrag.vector_stores.lancedb import LanceDBVectorStore"
   ]
  },
  {
   "cell_type": "markdown",
   "metadata": {},
   "source": [
    "## 인덱싱된 Parquet 로드"
   ]
  },
  {
   "cell_type": "markdown",
   "metadata": {},
   "source": [
    "### Load tables to dataframes"
   ]
  },
  {
   "cell_type": "code",
   "execution_count": 46,
   "metadata": {},
   "outputs": [],
   "source": [
    "INPUT_DIR = \"./ragtest/output\"\n",
    "LANCEDB_URI = \"./ragtest/output/lancedb\"\n",
    "\n",
    "COMMUNITY_REPORT_TABLE = \"create_final_community_reports\"\n",
    "COMMUNITY_TABLE = \"create_final_communities\"\n",
    "ENTITY_TABLE = \"create_final_nodes\"\n",
    "ENTITY_EMBEDDING_TABLE = \"create_final_entities\"\n",
    "RELATIONSHIP_TABLE = \"create_final_relationships\"\n",
    "COVARIATE_TABLE = \"create_final_covariates\"\n",
    "TEXT_UNIT_TABLE = \"create_final_text_units\"\n",
    "COMMUNITY_LEVEL = 2"
   ]
  },
  {
   "cell_type": "markdown",
   "metadata": {},
   "source": [
    "#### Read entities"
   ]
  },
  {
   "cell_type": "code",
   "execution_count": 47,
   "metadata": {},
   "outputs": [],
   "source": [
    "# read nodes table to get community and degree data\n",
    "entity_df = pd.read_parquet(f\"{INPUT_DIR}/{ENTITY_TABLE}.parquet\")\n",
    "entity_embedding_df = pd.read_parquet(f\"{INPUT_DIR}/{ENTITY_EMBEDDING_TABLE}.parquet\")"
   ]
  },
  {
   "cell_type": "markdown",
   "metadata": {},
   "source": [
    "#### Read relationships"
   ]
  },
  {
   "cell_type": "code",
   "execution_count": 48,
   "metadata": {},
   "outputs": [],
   "source": [
    "relationship_df = pd.read_parquet(f\"{INPUT_DIR}/{RELATIONSHIP_TABLE}.parquet\")\n",
    "relationships = read_indexer_relationships(relationship_df)\n",
    "\n"
   ]
  },
  {
   "cell_type": "markdown",
   "metadata": {},
   "source": [
    "#### Read Community"
   ]
  },
  {
   "cell_type": "code",
   "execution_count": 49,
   "metadata": {},
   "outputs": [],
   "source": [
    "report_df = pd.read_parquet(f\"{INPUT_DIR}/{COMMUNITY_REPORT_TABLE}.parquet\")\n",
    "\n",
    "community_df = pd.read_parquet(f\"{INPUT_DIR}/{COMMUNITY_TABLE}.parquet\")\n",
    "communities = read_indexer_communities(community_df, entity_df, report_df)\n"
   ]
  },
  {
   "cell_type": "markdown",
   "metadata": {},
   "source": [
    "#### Read embedding for entity and community"
   ]
  },
  {
   "cell_type": "code",
   "execution_count": 50,
   "metadata": {},
   "outputs": [],
   "source": [
    "entities = read_indexer_entities(entity_df, entity_embedding_df, COMMUNITY_LEVEL)\n",
    "\n",
    "description_embedding_store = LanceDBVectorStore(\n",
    "    collection_name=\"default-entity-description\",\n",
    ")\n",
    "description_embedding_store.connect(db_uri=LANCEDB_URI)\n",
    "\n",
    "full_content_embedding_store = LanceDBVectorStore(\n",
    "    collection_name=\"default-community-full_content\",\n",
    ")\n",
    "full_content_embedding_store.connect(db_uri=LANCEDB_URI)\n",
    "\n",
    "covariate_df = pd.read_parquet(f\"{INPUT_DIR}/{COVARIATE_TABLE}.parquet\")\n",
    "claims = read_indexer_covariates(covariate_df)\n",
    "covariates = {\"claims\": claims}\n",
    "report_df = pd.read_parquet(f\"{INPUT_DIR}/{COMMUNITY_REPORT_TABLE}.parquet\")\n",
    "reports = read_indexer_reports(report_df, entity_df, COMMUNITY_LEVEL, content_embedding_col=\"full_content_embedding\")\n",
    "text_unit_df = pd.read_parquet(f\"{INPUT_DIR}/{TEXT_UNIT_TABLE}.parquet\")\n",
    "text_units = read_indexer_text_units(text_unit_df)\n",
    "\n",
    "read_indexer_report_embeddings(reports, full_content_embedding_store)"
   ]
  },
  {
   "cell_type": "markdown",
   "metadata": {},
   "source": [
    "#### Search에서 사용할 공통 LLM정의"
   ]
  },
  {
   "cell_type": "code",
   "execution_count": 53,
   "metadata": {},
   "outputs": [],
   "source": [
    "from dotenv import load_dotenv\n",
    "\n",
    "load_dotenv()\n",
    "\n",
    "api_key = os.environ[\"GRAPHRAG_API_KEY\"]\n",
    "llm_model = os.environ[\"GRAPHRAG_LLM_MODEL\"]\n",
    "embedding_model = os.environ[\"GRAPHRAG_EMBEDDING_MODEL\"]\n",
    "base_url = os.environ[\"GRAPHRAG_BASE_URL\"]\n",
    "api_version = os.environ[\"GRAPHRAG_API_VERSION\"]\n",
    "\n",
    "llm = ChatOpenAI(\n",
    "    api_key=api_key,\n",
    "    model=llm_model,\n",
    "    api_version=api_version,\n",
    "    api_base=base_url,\n",
    "    api_type=OpenaiApiType.AzureOpenAI,  # OpenaiApiType.OpenAI or OpenaiApiType.AzureOpenAI\n",
    "    max_retries=20,\n",
    ")\n",
    "\n",
    "token_encoder = tiktoken.get_encoding(\"cl100k_base\")\n",
    "\n",
    "text_embedder = OpenAIEmbedding(\n",
    "    api_key=api_key,\n",
    "    api_base=base_url,\n",
    "    api_version=api_version,\n",
    "    api_type=OpenaiApiType.AzureOpenAI,\n",
    "    model=embedding_model,\n",
    "    deployment_name=embedding_model,\n",
    "    max_retries=20,\n",
    ")\n"
   ]
  },
  {
   "cell_type": "markdown",
   "metadata": {},
   "source": [
    "#### Local Search 설정"
   ]
  },
  {
   "cell_type": "code",
   "execution_count": 55,
   "metadata": {},
   "outputs": [],
   "source": [
    "\n",
    "context_builder = LocalSearchMixedContext(\n",
    "    community_reports=reports,\n",
    "    text_units=text_units,\n",
    "    entities=entities,\n",
    "    relationships=relationships,\n",
    "    covariates=covariates,\n",
    "    entity_text_embeddings=description_embedding_store,\n",
    "    embedding_vectorstore_key=EntityVectorStoreKey.ID,  # if the vectorstore uses entity title as ids, set this to EntityVectorStoreKey.TITLE\n",
    "    text_embedder=text_embedder,\n",
    "    token_encoder=token_encoder,\n",
    ")\n",
    "\n",
    "local_context_params = {\n",
    "    \"text_unit_prop\": 0.5,\n",
    "    \"community_prop\": 0.1,\n",
    "    \"conversation_history_max_turns\": 5,\n",
    "    \"conversation_history_user_turns_only\": True,\n",
    "    \"top_k_mapped_entities\": 10,\n",
    "    \"top_k_relationships\": 10,\n",
    "    \"include_entity_rank\": True,\n",
    "    \"include_relationship_weight\": True,\n",
    "    \"include_community_rank\": False,\n",
    "    \"return_candidate_context\": False,\n",
    "    \"embedding_vectorstore_key\": EntityVectorStoreKey.ID,  # set this to EntityVectorStoreKey.TITLE if the vectorstore uses entity title as ids\n",
    "    \"max_tokens\": 12_000,  # change this based on the token limit you have on your model (if you are using a model with 8k limit, a good setting could be 5000)\n",
    "}\n",
    "\n",
    "llm_params = {\n",
    "    \"max_tokens\": 2_000,  # change this based on the token limit you have on your model (if you are using a model with 8k limit, a good setting could be 1000=1500)\n",
    "    \"temperature\": 0.0,\n",
    "}\n",
    "\n",
    "local_search_engine = LocalSearch(\n",
    "    llm=llm,\n",
    "    context_builder=context_builder,\n",
    "    token_encoder=token_encoder,\n",
    "    llm_params=llm_params,\n",
    "    context_builder_params=local_context_params,\n",
    "    response_type=\"multiple paragraphs\",  # free form text describing the response type and format, can be anything, e.g. prioritized list, single paragraph, multiple paragraphs, multiple-page report\n",
    ")\n",
    "\n",
    "\n"
   ]
  },
  {
   "cell_type": "markdown",
   "metadata": {},
   "source": [
    "#### Global Search 설정"
   ]
  },
  {
   "cell_type": "code",
   "execution_count": 56,
   "metadata": {},
   "outputs": [],
   "source": [
    "\n",
    "context_builder = GlobalCommunityContext(\n",
    "    community_reports=reports,\n",
    "    communities=communities,\n",
    "    entities=entities,  # default to None if you don't want to use community weights for ranking\n",
    "    token_encoder=token_encoder,\n",
    ")\n",
    "\n",
    "\n",
    "context_builder_params = {\n",
    "    \"use_community_summary\": False,  # False means using full community reports. True means using community short summaries.\n",
    "    \"shuffle_data\": True,\n",
    "    \"include_community_rank\": True,\n",
    "    \"min_community_rank\": 0,\n",
    "    \"community_rank_name\": \"rank\",\n",
    "    \"include_community_weight\": True,\n",
    "    \"community_weight_name\": \"occurrence weight\",\n",
    "    \"normalize_community_weight\": True,\n",
    "    \"max_tokens\": 12_000,  # change this based on the token limit you have on your model (if you are using a model with 8k limit, a good setting could be 5000)\n",
    "    \"context_name\": \"Reports\",\n",
    "}\n",
    "\n",
    "map_llm_params = {\n",
    "    \"max_tokens\": 1000,\n",
    "    \"temperature\": 0.0,\n",
    "    \"response_format\": {\"type\": \"json_object\"},\n",
    "}\n",
    "\n",
    "reduce_llm_params = {\n",
    "    \"max_tokens\": 2000,  # change this based on the token limit you have on your model (if you are using a model with 8k limit, a good setting could be 1000-1500)\n",
    "    \"temperature\": 0.0,\n",
    "}\n",
    "\n",
    "global_search_engine = GlobalSearch(\n",
    "    llm=llm,\n",
    "    context_builder=context_builder,\n",
    "    token_encoder=token_encoder,\n",
    "    max_data_tokens=12_000,  # change this based on the token limit you have on your model (if you are using a model with 8k limit, a good setting could be 5000)\n",
    "    map_llm_params=map_llm_params,\n",
    "    reduce_llm_params=reduce_llm_params,\n",
    "    allow_general_knowledge=False,  # set this to True will add instruction to encourage the LLM to incorporate general knowledge in the response, which may increase hallucinations, but could be useful in some use cases.\n",
    "    json_mode=True,  # set this to False if your LLM model does not support JSON mode.\n",
    "    context_builder_params=context_builder_params,\n",
    "    concurrent_coroutines=32,\n",
    "    response_type=\"single paragraph\",  # free form text describing the response type and format, can be anything, e.g. prioritized list, single paragraph, multiple paragraphs, multiple-page report\n",
    ")\n"
   ]
  },
  {
   "cell_type": "markdown",
   "metadata": {},
   "source": [
    "#### Drift Search 설정"
   ]
  },
  {
   "cell_type": "code",
   "execution_count": 57,
   "metadata": {},
   "outputs": [],
   "source": [
    "\n",
    "drift_params = DRIFTSearchConfig(\n",
    "    temperature=0,\n",
    "    max_tokens=12_000,\n",
    "    primer_folds=1,\n",
    "    drift_k_followups=3,\n",
    "    n_depth=3,\n",
    "    n=1,\n",
    ")\n",
    "\n",
    "context_builder = DRIFTSearchContextBuilder(\n",
    "    chat_llm=llm,\n",
    "    text_embedder=text_embedder,\n",
    "    entities=entities,\n",
    "    relationships=relationships,\n",
    "    reports=reports,\n",
    "    entity_text_embeddings=description_embedding_store,\n",
    "    text_units=text_units,\n",
    "    token_encoder=token_encoder,\n",
    "    config=drift_params,\n",
    ")\n",
    "\n",
    "drift_search_engine = DRIFTSearch(\n",
    "    llm=llm, context_builder=context_builder, token_encoder=token_encoder\n",
    ")"
   ]
  },
  {
   "cell_type": "markdown",
   "metadata": {},
   "source": [
    "## Run Global Search sample queries"
   ]
  },
  {
   "cell_type": "code",
   "execution_count": 58,
   "metadata": {},
   "outputs": [
    {
     "name": "stdout",
     "output_type": "stream",
     "text": [
      "이 소설의 주제는 내레이터의 가정 내에서의 복잡하고 긴장된 관계, 특히 내레이터의 아내와의 상호작용과 역학에 중점을 두고 있습니다. 내러티브는 불륜, 경제적 의존, 감정적 고뇌, 그리고 개인적 혼란 속에서 의미를 찾으려는 노력을 탐구합니다 [Data: Reports (8, 9, 7, 6, 4)].\n"
     ]
    }
   ],
   "source": [
    "result = await global_search_engine.asearch(\"이 소설의 주제를 한마디로 해줘\")\n",
    "# result = await global_search_engine.asearch(\"이 소설의 세계관을 이용하여 RPG게임 시나리오를 만들어줘\")\n",
    "print(result.response)\n",
    "\n",
    "\n"
   ]
  },
  {
   "cell_type": "markdown",
   "metadata": {},
   "source": [
    "## Run Local Search sample queries"
   ]
  },
  {
   "cell_type": "code",
   "execution_count": 96,
   "metadata": {},
   "outputs": [
    {
     "name": "stdout",
     "output_type": "stream",
     "text": [
      "이상(李霜)의 작품에서 와이프의 직업을 직접적으로 언급하는 부분은 없지만, 그녀의 행동과 역할을 통해 몇 가지 추측을 할 수 있습니다.\n",
      "\n",
      "### 와이프의 역할과 행동\n",
      "\n",
      "와이프는 주인공에게 약을 주고, 저녁 밥상을 준비하는 등 가정 내에서 중요한 역할을 하고 있습니다. 주인공이 감기에 걸렸을 때 와이프는 그에게 약을 주고, 그가 외출하지 않도록 권유합니다 [Data: Relationships (93, 86); Sources (16)]. 또한, 와이프는 저녁 밥상을 준비하고, 주인공과 함께 식사를 합니다 [Data: Relationships (89, 86)].\n",
      "\n",
      "### 와이프의 방과 화장대\n",
      "\n",
      "와이프의 방에는 화장대가 있으며, 주인공은 종종 그 방을 탐험합니다. 화장대에는 여러 가지 화장품 병들이 있으며, 주인공은 이 병들을 맡아보기도 합니다 [Data: Relationships (76, 36, 38); Sources (16)]. 이러한 점에서 와이프는 자신의 외모를 꾸미는 데 신경을 쓰는 사람으로 보입니다.\n",
      "\n",
      "### 아달린과 아스피린\n",
      "\n",
      "주인공이 아달린을 아스피린으로 착각하고 한 달 동안 복용한 사건도 와이프와 관련이 있습니다. 주인공은 와이프가 아달린을 준 것이 아닌가 의심합니다 [Data: Relationships (92, 100); Sources (16)]. 이 사건은 와이프가 약에 대해 어느 정도의 지식을 가지고 있음을 시사합니다.\n",
      "\n",
      "### 결론\n",
      "\n",
      "와이프의 직업을 정확히 알 수는 없지만, 그녀는 가정 내에서 중요한 역할을 하며, 약에 대한 지식과 화장품에 대한 관심을 가지고 있는 것으로 보입니다. 이러한 점들을 종합해 볼 때, 와이프는 가정주부일 가능성이 높으며, 약사나 미용 관련 직업을 가졌을 가능성도 배제할 수 없습니다. 그러나 이는 작품 내에서 명확히 언급되지 않았기 때문에 확정적인 결론을 내리기는 어렵습니다.\n"
     ]
    }
   ],
   "source": [
    "result = await local_search_engine.asearch(\"와이프의 직업을 유추할 수있어?\")\n",
    "print(result.response)"
   ]
  },
  {
   "cell_type": "code",
   "execution_count": 92,
   "metadata": {},
   "outputs": [
    {
     "name": "stdout",
     "output_type": "stream",
     "text": [
      "None\n"
     ]
    }
   ],
   "source": [
    "result = await drift_search_engine.asearch(\"주인공 '나'는 왜 정신적으로 피폐해지는 것일까?\")\n",
    "print(result.response['nodes'][0]['answer'])\n"
   ]
  },
  {
   "cell_type": "markdown",
   "metadata": {},
   "source": [
    "#### Local Search 결과 데이터 확인을 위한 데이터 로드"
   ]
  },
  {
   "cell_type": "code",
   "execution_count": 26,
   "metadata": {},
   "outputs": [
    {
     "name": "stdout",
     "output_type": "stream",
     "text": [
      "Report records: 11\n"
     ]
    },
    {
     "data": {
      "text/html": [
       "<div>\n",
       "<style scoped>\n",
       "    .dataframe tbody tr th:only-of-type {\n",
       "        vertical-align: middle;\n",
       "    }\n",
       "\n",
       "    .dataframe tbody tr th {\n",
       "        vertical-align: top;\n",
       "    }\n",
       "\n",
       "    .dataframe thead th {\n",
       "        text-align: right;\n",
       "    }\n",
       "</style>\n",
       "<table border=\"1\" class=\"dataframe\">\n",
       "  <thead>\n",
       "    <tr style=\"text-align: right;\">\n",
       "      <th></th>\n",
       "      <th>id</th>\n",
       "      <th>human_readable_id</th>\n",
       "      <th>community</th>\n",
       "      <th>parent</th>\n",
       "      <th>level</th>\n",
       "      <th>title</th>\n",
       "      <th>summary</th>\n",
       "      <th>full_content</th>\n",
       "      <th>rank</th>\n",
       "      <th>rank_explanation</th>\n",
       "      <th>findings</th>\n",
       "      <th>full_content_json</th>\n",
       "      <th>period</th>\n",
       "      <th>size</th>\n",
       "    </tr>\n",
       "  </thead>\n",
       "  <tbody>\n",
       "    <tr>\n",
       "      <th>0</th>\n",
       "      <td>2233fe19006b40bab340b5dd975a51f8</td>\n",
       "      <td>7</td>\n",
       "      <td>7</td>\n",
       "      <td>1</td>\n",
       "      <td>1</td>\n",
       "      <td>Narrator's Domestic Life and Emotional Struggles</td>\n",
       "      <td>The community revolves around the narrator, re...</td>\n",
       "      <td># Narrator's Domestic Life and Emotional Strug...</td>\n",
       "      <td>7.5</td>\n",
       "      <td>The impact severity rating is high due to the ...</td>\n",
       "      <td>[{'explanation': 'The narrator, referred to as...</td>\n",
       "      <td>{\\n    \"title\": \"Narrator's Domestic Life and ...</td>\n",
       "      <td>2025-01-15</td>\n",
       "      <td>7</td>\n",
       "    </tr>\n",
       "    <tr>\n",
       "      <th>1</th>\n",
       "      <td>dc0943fcd8994ad6bc29e57d00e0340f</td>\n",
       "      <td>8</td>\n",
       "      <td>8</td>\n",
       "      <td>1</td>\n",
       "      <td>1</td>\n",
       "      <td>Narrator's Household and Mysterious Interactions</td>\n",
       "      <td>The community revolves around the narrator's h...</td>\n",
       "      <td># Narrator's Household and Mysterious Interact...</td>\n",
       "      <td>7.5</td>\n",
       "      <td>The impact severity rating is high due to the ...</td>\n",
       "      <td>[{'explanation': 'The narrator's wife is a cen...</td>\n",
       "      <td>{\\n    \"title\": \"Narrator's Household and Myst...</td>\n",
       "      <td>2025-01-15</td>\n",
       "      <td>9</td>\n",
       "    </tr>\n",
       "    <tr>\n",
       "      <th>2</th>\n",
       "      <td>d49ff434b2bb484d97f4a31a66927671</td>\n",
       "      <td>9</td>\n",
       "      <td>9</td>\n",
       "      <td>5</td>\n",
       "      <td>1</td>\n",
       "      <td>Narrator's Household Dynamics</td>\n",
       "      <td>The community revolves around the narrator's h...</td>\n",
       "      <td># Narrator's Household Dynamics\\n\\nThe communi...</td>\n",
       "      <td>6.5</td>\n",
       "      <td>The impact severity rating is moderate to high...</td>\n",
       "      <td>[{'explanation': 'The narrator's room, referre...</td>\n",
       "      <td>{\\n    \"title\": \"Narrator's Household Dynamics...</td>\n",
       "      <td>2025-01-15</td>\n",
       "      <td>7</td>\n",
       "    </tr>\n",
       "    <tr>\n",
       "      <th>3</th>\n",
       "      <td>03957b8c182f4ac8b36fb53b3a0bc738</td>\n",
       "      <td>10</td>\n",
       "      <td>10</td>\n",
       "      <td>5</td>\n",
       "      <td>1</td>\n",
       "      <td>Gyeongseong Station and Surrounding Locations</td>\n",
       "      <td>The community revolves around Gyeongseong Stat...</td>\n",
       "      <td># Gyeongseong Station and Surrounding Location...</td>\n",
       "      <td>4.5</td>\n",
       "      <td>The impact severity rating is moderate due to ...</td>\n",
       "      <td>[{'explanation': 'Gyeongseong Station is the c...</td>\n",
       "      <td>{\\n    \"title\": \"Gyeongseong Station and Surro...</td>\n",
       "      <td>2025-01-15</td>\n",
       "      <td>5</td>\n",
       "    </tr>\n",
       "    <tr>\n",
       "      <th>4</th>\n",
       "      <td>2b21946eb82d40798d6a5b0418578d47</td>\n",
       "      <td>0</td>\n",
       "      <td>0</td>\n",
       "      <td>-1</td>\n",
       "      <td>0</td>\n",
       "      <td>33번지 Community and 내 아내</td>\n",
       "      <td>The community revolves around the 33번지, which ...</td>\n",
       "      <td># 33번지 Community and 내 아내\\n\\nThe community rev...</td>\n",
       "      <td>6.5</td>\n",
       "      <td>The impact severity rating is moderately high ...</td>\n",
       "      <td>[{'explanation': '내 아내 is a central figure in ...</td>\n",
       "      <td>{\\n    \"title\": \"33번지 Community and 내 아내\",\\n  ...</td>\n",
       "      <td>2025-01-15</td>\n",
       "      <td>5</td>\n",
       "    </tr>\n",
       "  </tbody>\n",
       "</table>\n",
       "</div>"
      ],
      "text/plain": [
       "                                 id  human_readable_id  community  parent  \\\n",
       "0  2233fe19006b40bab340b5dd975a51f8                  7          7       1   \n",
       "1  dc0943fcd8994ad6bc29e57d00e0340f                  8          8       1   \n",
       "2  d49ff434b2bb484d97f4a31a66927671                  9          9       5   \n",
       "3  03957b8c182f4ac8b36fb53b3a0bc738                 10         10       5   \n",
       "4  2b21946eb82d40798d6a5b0418578d47                  0          0      -1   \n",
       "\n",
       "   level                                             title  \\\n",
       "0      1  Narrator's Domestic Life and Emotional Struggles   \n",
       "1      1  Narrator's Household and Mysterious Interactions   \n",
       "2      1                     Narrator's Household Dynamics   \n",
       "3      1     Gyeongseong Station and Surrounding Locations   \n",
       "4      0                           33번지 Community and 내 아내   \n",
       "\n",
       "                                             summary  \\\n",
       "0  The community revolves around the narrator, re...   \n",
       "1  The community revolves around the narrator's h...   \n",
       "2  The community revolves around the narrator's h...   \n",
       "3  The community revolves around Gyeongseong Stat...   \n",
       "4  The community revolves around the 33번지, which ...   \n",
       "\n",
       "                                        full_content  rank  \\\n",
       "0  # Narrator's Domestic Life and Emotional Strug...   7.5   \n",
       "1  # Narrator's Household and Mysterious Interact...   7.5   \n",
       "2  # Narrator's Household Dynamics\\n\\nThe communi...   6.5   \n",
       "3  # Gyeongseong Station and Surrounding Location...   4.5   \n",
       "4  # 33번지 Community and 내 아내\\n\\nThe community rev...   6.5   \n",
       "\n",
       "                                    rank_explanation  \\\n",
       "0  The impact severity rating is high due to the ...   \n",
       "1  The impact severity rating is high due to the ...   \n",
       "2  The impact severity rating is moderate to high...   \n",
       "3  The impact severity rating is moderate due to ...   \n",
       "4  The impact severity rating is moderately high ...   \n",
       "\n",
       "                                            findings  \\\n",
       "0  [{'explanation': 'The narrator, referred to as...   \n",
       "1  [{'explanation': 'The narrator's wife is a cen...   \n",
       "2  [{'explanation': 'The narrator's room, referre...   \n",
       "3  [{'explanation': 'Gyeongseong Station is the c...   \n",
       "4  [{'explanation': '내 아내 is a central figure in ...   \n",
       "\n",
       "                                   full_content_json      period  size  \n",
       "0  {\\n    \"title\": \"Narrator's Domestic Life and ...  2025-01-15     7  \n",
       "1  {\\n    \"title\": \"Narrator's Household and Myst...  2025-01-15     9  \n",
       "2  {\\n    \"title\": \"Narrator's Household Dynamics...  2025-01-15     7  \n",
       "3  {\\n    \"title\": \"Gyeongseong Station and Surro...  2025-01-15     5  \n",
       "4  {\\n    \"title\": \"33번지 Community and 내 아내\",\\n  ...  2025-01-15     5  "
      ]
     },
     "execution_count": 26,
     "metadata": {},
     "output_type": "execute_result"
    }
   ],
   "source": [
    "COMMUNITY_LEVEL = 2\n",
    "entity_df = pd.read_parquet(f\"{INPUT_DIR}/{ENTITY_TABLE}.parquet\")\n",
    "report_df = pd.read_parquet(f\"{INPUT_DIR}/{COMMUNITY_REPORT_TABLE}.parquet\")\n",
    "entity_embedding_df = pd.read_parquet(f\"{INPUT_DIR}/{ENTITY_EMBEDDING_TABLE}.parquet\")\n",
    "\n",
    "reports = read_indexer_reports(report_df, entity_df, COMMUNITY_LEVEL)\n",
    "entities = read_indexer_entities(entity_df, entity_embedding_df, COMMUNITY_LEVEL)\n",
    "print(f\"Report records: {len(report_df)}\")\n",
    "report_df.head()\n"
   ]
  },
  {
   "cell_type": "markdown",
   "metadata": {},
   "source": [
    "## Inspecting the context data used to generate the response"
   ]
  },
  {
   "cell_type": "code",
   "execution_count": 97,
   "metadata": {},
   "outputs": [
    {
     "data": {
      "text/html": [
       "<div>\n",
       "<style scoped>\n",
       "    .dataframe tbody tr th:only-of-type {\n",
       "        vertical-align: middle;\n",
       "    }\n",
       "\n",
       "    .dataframe tbody tr th {\n",
       "        vertical-align: top;\n",
       "    }\n",
       "\n",
       "    .dataframe thead th {\n",
       "        text-align: right;\n",
       "    }\n",
       "</style>\n",
       "<table border=\"1\" class=\"dataframe\">\n",
       "  <thead>\n",
       "    <tr style=\"text-align: right;\">\n",
       "      <th></th>\n",
       "      <th>id</th>\n",
       "      <th>entity</th>\n",
       "      <th>description</th>\n",
       "      <th>number of relationships</th>\n",
       "      <th>in_context</th>\n",
       "    </tr>\n",
       "  </thead>\n",
       "  <tbody>\n",
       "    <tr>\n",
       "      <th>0</th>\n",
       "      <td>75</td>\n",
       "      <td>하느님</td>\n",
       "      <td>주인공이 편안하고 즐거운 세월을 자랑하고 싶어한 대상이다</td>\n",
       "      <td>1</td>\n",
       "      <td>True</td>\n",
       "    </tr>\n",
       "    <tr>\n",
       "      <th>1</th>\n",
       "      <td>31</td>\n",
       "      <td>럭키 세븐</td>\n",
       "      <td>럭키 세븐은 일곱 번째 칸을 의미하며, 이는 운명의 상징으로 여겨진다</td>\n",
       "      <td>0</td>\n",
       "      <td>True</td>\n",
       "    </tr>\n",
       "    <tr>\n",
       "      <th>2</th>\n",
       "      <td>73</td>\n",
       "      <td>이발</td>\n",
       "      <td>주인공이 한 달 동안 누워 지내다가 머리와 수염이 자라서 이발을 하기로 결심한 사건이다</td>\n",
       "      <td>1</td>\n",
       "      <td>True</td>\n",
       "    </tr>\n",
       "    <tr>\n",
       "      <th>3</th>\n",
       "      <td>20</td>\n",
       "      <td>니코틴</td>\n",
       "      <td></td>\n",
       "      <td>1</td>\n",
       "      <td>True</td>\n",
       "    </tr>\n",
       "    <tr>\n",
       "      <th>4</th>\n",
       "      <td>76</td>\n",
       "      <td>이웃</td>\n",
       "      <td>주인공이 잠든 동안 불이 난 일을 겪은 사람들이다</td>\n",
       "      <td>1</td>\n",
       "      <td>True</td>\n",
       "    </tr>\n",
       "  </tbody>\n",
       "</table>\n",
       "</div>"
      ],
      "text/plain": [
       "   id entity                                       description  \\\n",
       "0  75    하느님                   주인공이 편안하고 즐거운 세월을 자랑하고 싶어한 대상이다   \n",
       "1  31  럭키 세븐            럭키 세븐은 일곱 번째 칸을 의미하며, 이는 운명의 상징으로 여겨진다   \n",
       "2  73     이발  주인공이 한 달 동안 누워 지내다가 머리와 수염이 자라서 이발을 하기로 결심한 사건이다   \n",
       "3  20    니코틴                                                     \n",
       "4  76     이웃                       주인공이 잠든 동안 불이 난 일을 겪은 사람들이다   \n",
       "\n",
       "  number of relationships  in_context  \n",
       "0                       1        True  \n",
       "1                       0        True  \n",
       "2                       1        True  \n",
       "3                       1        True  \n",
       "4                       1        True  "
      ]
     },
     "execution_count": 97,
     "metadata": {},
     "output_type": "execute_result"
    }
   ],
   "source": [
    "result.context_data[\"entities\"].head()"
   ]
  },
  {
   "cell_type": "code",
   "execution_count": 98,
   "metadata": {},
   "outputs": [
    {
     "data": {
      "text/html": [
       "<div>\n",
       "<style scoped>\n",
       "    .dataframe tbody tr th:only-of-type {\n",
       "        vertical-align: middle;\n",
       "    }\n",
       "\n",
       "    .dataframe tbody tr th {\n",
       "        vertical-align: top;\n",
       "    }\n",
       "\n",
       "    .dataframe thead th {\n",
       "        text-align: right;\n",
       "    }\n",
       "</style>\n",
       "<table border=\"1\" class=\"dataframe\">\n",
       "  <thead>\n",
       "    <tr style=\"text-align: right;\">\n",
       "      <th></th>\n",
       "      <th>id</th>\n",
       "      <th>source</th>\n",
       "      <th>target</th>\n",
       "      <th>description</th>\n",
       "      <th>weight</th>\n",
       "      <th>links</th>\n",
       "      <th>in_context</th>\n",
       "    </tr>\n",
       "  </thead>\n",
       "  <tbody>\n",
       "    <tr>\n",
       "      <th>0</th>\n",
       "      <td>106</td>\n",
       "      <td>오월 햇살</td>\n",
       "      <td>금붕어</td>\n",
       "      <td>The goldfish are illuminated by the May sunlight</td>\n",
       "      <td>4.0</td>\n",
       "      <td>1</td>\n",
       "      <td>True</td>\n",
       "    </tr>\n",
       "    <tr>\n",
       "      <th>1</th>\n",
       "      <td>107</td>\n",
       "      <td>스물 여섯 해</td>\n",
       "      <td>금붕어</td>\n",
       "      <td>The narrator reflects on their 26 years of lif...</td>\n",
       "      <td>1.0</td>\n",
       "      <td>1</td>\n",
       "      <td>True</td>\n",
       "    </tr>\n",
       "    <tr>\n",
       "      <th>2</th>\n",
       "      <td>1</td>\n",
       "      <td>이상</td>\n",
       "      <td>위고</td>\n",
       "      <td>이상 references Victor Hugo in his writing</td>\n",
       "      <td>3.0</td>\n",
       "      <td>6</td>\n",
       "      <td>True</td>\n",
       "    </tr>\n",
       "    <tr>\n",
       "      <th>3</th>\n",
       "      <td>5</td>\n",
       "      <td>이상</td>\n",
       "      <td>미망인</td>\n",
       "      <td>이상 uses the term 미망인 to describe women who hav...</td>\n",
       "      <td>1.0</td>\n",
       "      <td>6</td>\n",
       "      <td>True</td>\n",
       "    </tr>\n",
       "    <tr>\n",
       "      <th>4</th>\n",
       "      <td>6</td>\n",
       "      <td>이상</td>\n",
       "      <td>니코틴</td>\n",
       "      <td>이상 references nicotine in the context of its e...</td>\n",
       "      <td>3.0</td>\n",
       "      <td>6</td>\n",
       "      <td>True</td>\n",
       "    </tr>\n",
       "  </tbody>\n",
       "</table>\n",
       "</div>"
      ],
      "text/plain": [
       "    id   source target                                        description  \\\n",
       "0  106    오월 햇살    금붕어   The goldfish are illuminated by the May sunlight   \n",
       "1  107  스물 여섯 해    금붕어  The narrator reflects on their 26 years of lif...   \n",
       "2    1       이상     위고           이상 references Victor Hugo in his writing   \n",
       "3    5       이상    미망인  이상 uses the term 미망인 to describe women who hav...   \n",
       "4    6       이상    니코틴  이상 references nicotine in the context of its e...   \n",
       "\n",
       "  weight links  in_context  \n",
       "0    4.0     1        True  \n",
       "1    1.0     1        True  \n",
       "2    3.0     6        True  \n",
       "3    1.0     6        True  \n",
       "4    3.0     6        True  "
      ]
     },
     "execution_count": 98,
     "metadata": {},
     "output_type": "execute_result"
    }
   ],
   "source": [
    "result.context_data[\"relationships\"].head()"
   ]
  },
  {
   "cell_type": "markdown",
   "metadata": {},
   "source": [
    "## Visualizing the result context as graph"
   ]
  },
  {
   "cell_type": "code",
   "execution_count": 100,
   "metadata": {},
   "outputs": [
    {
     "data": {
      "application/vnd.jupyter.widget-view+json": {
       "model_id": "ce2e81cfb191444da194463302a35c20",
       "version_major": 2,
       "version_minor": 0
      },
      "text/plain": [
       "GraphWidget(layout=Layout(height='700px', width='100%'))"
      ]
     },
     "metadata": {},
     "output_type": "display_data"
    }
   ],
   "source": [
    "\"\"\"\n",
    "Helper function to visualize the result context with `yfiles-jupyter-graphs`.\n",
    "\n",
    "The dataframes are converted into supported nodes and relationships lists and then passed to yfiles-jupyter-graphs.\n",
    "Additionally, some values are mapped to visualization properties.\n",
    "\"\"\"\n",
    "\n",
    "\n",
    "def show_graph(result):\n",
    "    \"\"\"Visualize the result context with yfiles-jupyter-graphs.\"\"\"\n",
    "    from yfiles_jupyter_graphs import GraphWidget\n",
    "\n",
    "    if (\n",
    "        \"entities\" not in result.context_data\n",
    "        or \"relationships\" not in result.context_data\n",
    "    ):\n",
    "        msg = \"The passed results do not contain 'entities' or 'relationships'\"\n",
    "        raise ValueError(msg)\n",
    "\n",
    "    # converts the entities dataframe to a list of dicts for yfiles-jupyter-graphs\n",
    "    def convert_entities_to_dicts(df):\n",
    "        \"\"\"Convert the entities dataframe to a list of dicts for yfiles-jupyter-graphs.\"\"\"\n",
    "        nodes_dict = {}\n",
    "        for _, row in df.iterrows():\n",
    "            # Create a dictionary for each row and collect unique nodes\n",
    "            node_id = row[\"entity\"]\n",
    "            if node_id not in nodes_dict:\n",
    "                nodes_dict[node_id] = {\n",
    "                    \"id\": node_id,\n",
    "                    \"properties\": row.to_dict(),\n",
    "                }\n",
    "        return list(nodes_dict.values())\n",
    "\n",
    "    # converts the relationships dataframe to a list of dicts for yfiles-jupyter-graphs\n",
    "    def convert_relationships_to_dicts(df):\n",
    "        \"\"\"Convert the relationships dataframe to a list of dicts for yfiles-jupyter-graphs.\"\"\"\n",
    "        relationships = []\n",
    "        for _, row in df.iterrows():\n",
    "            # Create a dictionary for each row\n",
    "            relationships.append({\n",
    "                \"start\": row[\"source\"],\n",
    "                \"end\": row[\"target\"],\n",
    "                \"properties\": row.to_dict(),\n",
    "            })\n",
    "        return relationships\n",
    "\n",
    "    w = GraphWidget()\n",
    "    # use the converted data to visualize the graph\n",
    "    w.nodes = convert_entities_to_dicts(result.context_data[\"entities\"])\n",
    "    w.edges = convert_relationships_to_dicts(result.context_data[\"relationships\"])\n",
    "    w.directed = True\n",
    "    # show title on the node\n",
    "    w.node_label_mapping = \"entity\"\n",
    "    # use weight for edge thickness\n",
    "    w.edge_thickness_factor_mapping = \"weight\"\n",
    "    display(w)\n",
    "\n",
    "\n",
    "show_graph(result)"
   ]
  }
 ],
 "metadata": {
  "kernelspec": {
   "display_name": ".venv",
   "language": "python",
   "name": "python3"
  },
  "language_info": {
   "codemirror_mode": {
    "name": "ipython",
    "version": 3
   },
   "file_extension": ".py",
   "mimetype": "text/x-python",
   "name": "python",
   "nbconvert_exporter": "python",
   "pygments_lexer": "ipython3",
   "version": "3.11.11"
  }
 },
 "nbformat": 4,
 "nbformat_minor": 4
}
